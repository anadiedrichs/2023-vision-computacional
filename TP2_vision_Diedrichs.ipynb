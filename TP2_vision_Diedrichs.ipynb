{
  "nbformat": 4,
  "nbformat_minor": 0,
  "metadata": {
    "colab": {
      "private_outputs": true,
      "provenance": [],
      "authorship_tag": "ABX9TyOneOuHmdWzFACfUq3hs3Ti",
      "include_colab_link": true
    },
    "kernelspec": {
      "name": "python3",
      "display_name": "Python 3"
    },
    "language_info": {
      "name": "python"
    }
  },
  "cells": [
    {
      "cell_type": "markdown",
      "metadata": {
        "id": "view-in-github",
        "colab_type": "text"
      },
      "source": [
        "<a href=\"https://colab.research.google.com/github/anadiedrichs/2023-vision-computacional/blob/main/TP2_vision_Diedrichs.ipynb\" target=\"_parent\"><img src=\"https://colab.research.google.com/assets/colab-badge.svg\" alt=\"Open In Colab\"/></a>"
      ]
    },
    {
      "cell_type": "markdown",
      "source": [
        "# TP2 - VISION COMPUTACIONAL\n",
        "\n",
        " Ana Laura Diedrichs\n",
        " SIU a0902\n",
        " 9Co2022\n",
        "\n",
        "## Ejercicio 1\n",
        "\n",
        "Implementar la función ***create_gauss_filter(h, w, k_size, sigma)*** para crear filtros gaussianos para filtrado espectral. Debe retornar un filtro gaussiano de tamaño HxW en dominio espacial y su transformada de Fourier.\n",
        "\n",
        "1.  Graficar ambas representaciones para diferentes tamaños de kernel y sigma. Aplicar el filtro una imagen para validar el funcionamiento en el dominio espectral.\n"
      ],
      "metadata": {
        "id": "-_-bngWG0cYG"
      }
    },
    {
      "cell_type": "code",
      "source": [
        "#Si queremos que las imágenes sean mostradas en una ventana emergente quitar el inline\n",
        "%matplotlib inline\n",
        "#%matplotlib qt\n",
        "# OpenCV-Python utiliza NumPy para el manejo de imágenes\n",
        "import numpy as np\n",
        "# cv2 es el módulo python para acceder a OpenCV\n",
        "import cv2 as cv\n",
        "# Usamos las poderosas herramientas de graficación de matplotlib para mostrar imágenes, perfiles, histogramas, etc\n",
        "import matplotlib.pyplot as plt\n",
        "# para importar imagenes desde urls\n",
        "from skimage import io\n",
        "# mostrar imagenes opencv en googlecolab\n",
        "from google.colab.patches import cv2_imshow"
      ],
      "metadata": {
        "id": "RyoDclgEpFIB"
      },
      "execution_count": null,
      "outputs": []
    },
    {
      "cell_type": "code",
      "source": [
        "url = 'https://www.dropbox.com/s/8efkws4d0amkrgo/CoordCrom_1.png?dl=1'\n",
        "#url = 'https://www.dropbox.com/s/8efkws4d0amkrgo/CoordCrom_2.png?dl=1'\n",
        "#url = 'https://www.dropbox.com/s/8efkws4d0amkrgo/CoordCrom_3.png?dl=1'\n",
        "myImg = io.imread(url)\n",
        "image = cv.cvtColor(myImg, cv.COLOR_BGR2RGB)\n",
        "#cv2_imshow(image) # descomentar para visualizar la imagen descargada"
      ],
      "metadata": {
        "id": "7FUaCqkGpKOM"
      },
      "execution_count": null,
      "outputs": []
    },
    {
      "cell_type": "code",
      "source": [
        "#https://www.programcreek.com/python/example/89346/cv2.getGaussianKernel"
      ],
      "metadata": {
        "id": "R-FDPjs_rpNx"
      },
      "execution_count": null,
      "outputs": []
    },
    {
      "cell_type": "code",
      "source": [
        "def create_gauss_filter(h, w, k_size, sigma):\n",
        "\n",
        "    #TODO k_size debe ser impar\n",
        "\n",
        "    #TODO h y w positivos\n",
        "\n",
        "    # hacer padding de 0 hasta HxW\n",
        "    img_1 = np.zeros([h,w,3],dtype=np.uint8)\n",
        "\n",
        "    # Crear filtro gaussiano en el dominio espacial\n",
        "    gauss_kernel = cv.getGaussianKernel(k_size, sigma)\n",
        "    gauss_filter = np.outer(gauss_kernel, gauss_kernel.transpose())\n",
        "    #print(gauss_filter)\n",
        "\n",
        "    # viene normalizado el filtro ?\n",
        "    # gauss_filter = gauss_filter / np.sum(gauss_filter)  # Normalizar el filtro ?\n",
        "\n",
        "    nb = img_1.shape[0]\n",
        "    na = gauss_filter.shape[0]\n",
        "    lower = (nb) // 2 - (na // 2)\n",
        "    upper = (nb // 2) + (na // 2)\n",
        "    img_1[lower:upper+1, lower:upper+1,0] = gauss_filter\n",
        "    img_1[lower:upper+1, lower:upper+1,1] = gauss_filter\n",
        "    img_1[lower:upper+1, lower:upper+1,2] = gauss_filter\n",
        "\n",
        "   # print(img_1[:, :,0])\n",
        "   # result = cv.filter2D(img_1, -1 , gauss_filter)\n",
        "\n",
        "    result = cv.GaussianBlur(img_1, ksize=(k_size, k_size), sigmaX=sigma)\n",
        "    # Calcular la transformada de Fourier del filtro gaussiano\n",
        "    # llevo la baja frec al origen para acomodar la visualizacion\n",
        "    gauss_filter_fft = np.fft.fftshift(np.fft.fft2(result))\n",
        "    # obtengo el modulo\n",
        "    gauss_filter_fft = 20*np.log(np.abs(gauss_filter_fft))\n",
        "\n",
        "    return result, gauss_filter_fft\n"
      ],
      "metadata": {
        "id": "60z_JJxMs00F"
      },
      "execution_count": null,
      "outputs": []
    },
    {
      "cell_type": "code",
      "source": [
        "h = 256\n",
        "w = 256\n",
        "k_size = 11\n",
        "sigma = 17.0\n",
        "\n",
        "gauss_filter, gauss_filter_fft = create_gauss_filter(h, w, k_size, sigma)\n",
        "\n",
        "cv2_imshow(gauss_filter) # \"Gaussian Filter\"\n"
      ],
      "metadata": {
        "id": "3axi-S7Ts91C"
      },
      "execution_count": null,
      "outputs": []
    },
    {
      "cell_type": "code",
      "source": [
        "\n",
        "cv2_imshow(gauss_filter_fft) # \"Gaussian Filter FFT\""
      ],
      "metadata": {
        "id": "OUJ1192ttTBH"
      },
      "execution_count": null,
      "outputs": []
    },
    {
      "cell_type": "code",
      "source": [
        "import cv2\n",
        "import numpy as np\n",
        "\n",
        "def create_gauss_filter(h, w, k_size, sigma):\n",
        "    # Crear una matriz vacía para el filtro gaussiano en el dominio espacial\n",
        "    gauss_filter = np.zeros((h, w), dtype=np.float32)\n",
        "\n",
        "    # Calcular el centro del filtro\n",
        "    center_x = w // 2\n",
        "    center_y = h // 2\n",
        "\n",
        "    # Generar el filtro gaussiano en el dominio espacial\n",
        "    for i in range(h):\n",
        "        for j in range(w):\n",
        "            gauss_filter[i, j] = np.exp(-((i - center_y) ** 2 + (j - center_x) ** 2) / (2 * sigma ** 2))\n",
        "\n",
        "    # Normalizar el filtro\n",
        "    gauss_filter /= np.sum(gauss_filter)\n",
        "\n",
        "    # Calcular la transformada de Fourier del filtro\n",
        "    gauss_filter_fft = np.fft.fftshift(np.fft.fft2(gauss_filter))\n",
        "\n",
        "    return gauss_filter, gauss_filter_fft\n",
        "\n",
        "# Ejemplo de uso\n",
        "height = 256\n",
        "width = 256\n",
        "kernel_size = 31\n",
        "sigma_value = 5\n",
        "\n",
        "# Crear filtro gaussiano y su transformada de Fourier\n",
        "gauss_filter, gauss_filter_fft = create_gauss_filter(height, width, kernel_size, sigma_value)\n",
        "\n",
        "# Mostrar filtro gaussiano en el dominio espacial\n",
        "cv2_imshow( gauss_filter) #\"Gaussian Filter (Spatial Domain)\",\n",
        "\n",
        "\n",
        "# Mostrar filtro gaussiano en el dominio de la frecuencia (transformada de Fourier)\n",
        "gauss_filter_fft_magnitude = 20 * np.log(np.abs(gauss_filter_fft))\n",
        "gauss_filter_fft_magnitude = np.uint8(cv2.normalize(gauss_filter_fft_magnitude, None, 0, 255, cv2.NORM_MINMAX))\n",
        "cv2_imshow( gauss_filter_fft_magnitude) #\"Gaussian Filter (Frequency Domain)\",\n",
        "\n"
      ],
      "metadata": {
        "id": "1OxNkD7cIfpV"
      },
      "execution_count": null,
      "outputs": []
    },
    {
      "cell_type": "code",
      "source": [
        "import cv2\n",
        "import numpy as np\n",
        "from matplotlib import pyplot as plt\n",
        "\n",
        "def create_gauss_filter(h, w, k_size, sigma):\n",
        "\n",
        "    # Crear un kernel gaussiano en el dominio espacial\n",
        "    kernel = cv2.getGaussianKernel(k_size, sigma)\n",
        "    # creo la matriz kernel de tamaño k_size x k_size\n",
        "    kernel = np.outer(kernel, kernel)\n",
        "    # Ampliar el kernel para que coincida con el tamaño deseado\n",
        "    kernel = cv2.resize(kernel, (w, h))\n",
        "\n",
        "    # Calcular la transformada de Fourier del kernel\n",
        "    kernel_fft = np.fft.fft2(kernel)\n",
        "    kernel_fft_shift = np.fft.fftshift(kernel_fft)\n",
        "\n",
        "    return kernel, kernel_fft_shift\n",
        "\n",
        "\n",
        "# Parámetros de prueba\n",
        "height = 256\n",
        "width = 256\n",
        "kernel_size = 21\n",
        "sigma_value = 5\n",
        "\n",
        "# Crear filtro gaussiano y su transformada de Fourier\n",
        "gauss_filter, gauss_filter_fft = create_gauss_filter(height, width, kernel_size, sigma_value)\n",
        "\n",
        "# Visualizar el filtro gaussiano en el dominio espacial\n",
        "plt.subplot(121), plt.imshow(gauss_filter, cmap='gray')\n",
        "plt.title('Filtro Gaussiano (Dominio Espacial)'), plt.xticks([]), plt.yticks([])\n",
        "\n",
        "plt.show()\n",
        "\n",
        "# Visualizar la transformada de Fourier del filtro gaussiano\n",
        "plt.subplot(122), plt.imshow(np.log(1 + np.abs(gauss_filter_fft)), cmap='gray')\n",
        "plt.title('Transformada de Fourier del Filtro Gaussiano'), plt.xticks([]), plt.yticks([])\n",
        "\n",
        "plt.show()\n"
      ],
      "metadata": {
        "id": "jc4SHZfwJyFk"
      },
      "execution_count": null,
      "outputs": []
    },
    {
      "cell_type": "markdown",
      "source": [
        "## Ejercicio 2\n",
        "\n",
        "2. Usando el método descripto en el paper “Image Sharpness Measure for Blurred Images in Frequency Domain” comparar el resultado de un filtrado por convolución con el filtrado espectral.\n",
        "\n"
      ],
      "metadata": {
        "id": "f8qTXMil1AQ8"
      }
    },
    {
      "cell_type": "code",
      "source": [],
      "metadata": {
        "id": "LJy_CV4g1Ak3"
      },
      "execution_count": null,
      "outputs": []
    },
    {
      "cell_type": "markdown",
      "source": [
        "## Ejercicio 3\n",
        "\n",
        "3. Repetir la comparación usando uno de los métodos descriptos en el apéndice del paper “Analysis of focus measure operators in shape-from-focus”"
      ],
      "metadata": {
        "id": "diSHlQda1FBl"
      }
    },
    {
      "cell_type": "markdown",
      "source": [
        "Método A.24: gray-level variance (STA3)\n",
        "\n",
        "$$ \\phi_{x,y} = \\sum_{i,j} (I(i,j)-μ)^2 $$\n",
        "\n"
      ],
      "metadata": {
        "id": "lpsTwBjdNQ8Y"
      }
    },
    {
      "cell_type": "code",
      "source": [
        "# usando numpy as np\n",
        "import numpy as np\n",
        "from numpy.linalg import matrix_power\n",
        "\n",
        "def gray_level_variance(image):\n",
        "  media = np.mean(image)\n",
        "  return matrix_power(image - media, 2)"
      ],
      "metadata": {
        "id": "r1O4rq5Q1HNz"
      },
      "execution_count": null,
      "outputs": []
    },
    {
      "cell_type": "code",
      "source": [],
      "metadata": {
        "id": "aTC2fyN1NuRC"
      },
      "execution_count": null,
      "outputs": []
    }
  ]
}