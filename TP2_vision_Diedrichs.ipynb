{
  "nbformat": 4,
  "nbformat_minor": 0,
  "metadata": {
    "colab": {
      "private_outputs": true,
      "provenance": [],
      "authorship_tag": "ABX9TyOHP08/YknTWHcm2sI7f2EX",
      "include_colab_link": true
    },
    "kernelspec": {
      "name": "python3",
      "display_name": "Python 3"
    },
    "language_info": {
      "name": "python"
    }
  },
  "cells": [
    {
      "cell_type": "markdown",
      "metadata": {
        "id": "view-in-github",
        "colab_type": "text"
      },
      "source": [
        "<a href=\"https://colab.research.google.com/github/anadiedrichs/2023-vision-computacional/blob/main/TP2_vision_Diedrichs.ipynb\" target=\"_parent\"><img src=\"https://colab.research.google.com/assets/colab-badge.svg\" alt=\"Open In Colab\"/></a>"
      ]
    },
    {
      "cell_type": "markdown",
      "source": [
        "# TP2 - VISION COMPUTACIONAL\n",
        "\n",
        " Ana Laura Diedrichs\n",
        " SIU a0902\n",
        " 9Co2022\n",
        "\n",
        "## Ejercicio 1\n",
        "\n",
        "Implementar la función ***create_gauss_filter(h, w, k_size, sigma)*** para crear filtros gaussianos para filtrado espectral. Debe retornar un filtro gaussiano de tamaño HxW en dominio espacial y su transformada de Fourier.\n",
        "\n",
        "1.  Graficar ambas representaciones para diferentes tamaños de kernel y sigma. Aplicar el filtro una imagen para validar el funcionamiento en el dominio espectral.\n"
      ],
      "metadata": {
        "id": "-_-bngWG0cYG"
      }
    },
    {
      "cell_type": "code",
      "source": [
        "#Si queremos que las imágenes sean mostradas en una ventana emergente quitar el inline\n",
        "%matplotlib inline\n",
        "#%matplotlib qt\n",
        "# OpenCV-Python utiliza NumPy para el manejo de imágenes\n",
        "import numpy as np\n",
        "# cv2 es el módulo python para acceder a OpenCV\n",
        "import cv2 as cv\n",
        "# matplotlib para mostrar imágenes, perfiles, histogramas, etc\n",
        "import matplotlib.pyplot as plt\n",
        "# para importar imagenes desde urls\n",
        "from skimage import io\n",
        "# mostrar imagenes opencv en googlecolab\n",
        "from google.colab.patches import cv2_imshow"
      ],
      "metadata": {
        "id": "RyoDclgEpFIB"
      },
      "execution_count": null,
      "outputs": []
    },
    {
      "cell_type": "code",
      "source": [
        "#https://www.programcreek.com/python/example/89346/cv2.getGaussianKernel"
      ],
      "metadata": {
        "id": "R-FDPjs_rpNx"
      },
      "execution_count": null,
      "outputs": []
    },
    {
      "cell_type": "code",
      "source": [
        "import cv2\n",
        "import numpy as np\n",
        "from matplotlib import pyplot as plt\n",
        "\n",
        "def create_gauss_filter(h, w, k_size, sigma):\n",
        "\n",
        "    # k_size debe ser impar\n",
        "    assert k_size > 0 and k_size % 2 != 0\n",
        "\n",
        "    # h y w positivos y TODO mayor al kernel\n",
        "    assert h > 0 and w > 0\n",
        "\n",
        "    # Crear un kernel gaussiano en el dominio espacial\n",
        "    kernel = cv2.getGaussianKernel(k_size, sigma)\n",
        "    #print(kernel)\n",
        "    # creo la matriz kernel de tamaño k_size x k_size\n",
        "    kernel = np.outer(kernel, kernel)\n",
        "\n",
        "    # normalizar\n",
        "    kernel = kernel / np.sum(kernel)\n",
        "    assert np.sum(kernel) == 1\n",
        "\n",
        "    #  rellenar el resto con cero.\n",
        "    img_1 = np.zeros([h,w])\n",
        "    # calculo el centro de la imagen\n",
        "    nb = img_1.shape[0]\n",
        "    na = kernel.shape[0]\n",
        "    lower = (nb // 2) - (na // 2)\n",
        "    upper = (nb // 2) + (na // 2)\n",
        "    # centrar el kernel en matrix(h,w),\n",
        "    img_1[lower:upper+1, lower:upper+1] = kernel\n",
        "\n",
        "    # Calcular la transformada de Fourier del kernel\n",
        "    kernel_fft = np.fft.fft2(img_1)\n",
        "\n",
        "    kernel_fft_shift = np.fft.fftshift(kernel_fft)\n",
        "\n",
        "    return img_1, kernel_fft_shift\n",
        "\n",
        "\n",
        "# Parámetros de prueba\n",
        "height = 256\n",
        "width = 256\n",
        "kernel_size = 15\n",
        "sigma_value = 5\n",
        "\n",
        "# Crear filtro gaussiano y su transformada de Fourier\n",
        "gauss_filter, gauss_filter_fft = create_gauss_filter(height, width, kernel_size, sigma_value)\n",
        "\n",
        "print(gauss_filter[121:136, 121:136])\n",
        "\n",
        "# Visualizar el filtro gaussiano en el dominio espacial\n",
        "plt.subplot(121), plt.imshow(gauss_filter, cmap='gray')\n",
        "plt.title('Filtro Gaussiano (Dominio Espacial)'), plt.xticks([]), plt.yticks([])\n",
        "\n",
        "plt.show()\n",
        "\n",
        "# Visualizar la transformada de Fourier del filtro gaussiano\n",
        "out = 20*np.log(np.abs(gauss_filter_fft)) # para graficar, el plot.\n",
        "plt.subplot(122), plt.imshow(out, cmap='gray')\n",
        "plt.title('Transformada de Fourier del Filtro Gaussiano'), plt.xticks([]), plt.yticks([])\n",
        "\n",
        "plt.show()\n",
        "\n"
      ],
      "metadata": {
        "id": "jc4SHZfwJyFk"
      },
      "execution_count": null,
      "outputs": []
    },
    {
      "cell_type": "code",
      "source": [
        "# visualizar con el código que nos otorgó el profe en Clase 3\n",
        "plt.figure(figsize=(12,12))\n",
        "plt.subplot(1,2,1)\n",
        "plt.axis('off')\n",
        "plt.title(\"Kernel Gausiano\")\n",
        "plt.imshow(gauss_filter, cmap='jet')\n",
        "plt.subplot(1,2,2)\n",
        "plt.axis('off')\n",
        "plt.title(\"FFT del kernel\")\n",
        "plt.imshow(np.abs(gauss_filter_fft), cmap='jet')"
      ],
      "metadata": {
        "id": "N6kB0xR8PrUi"
      },
      "execution_count": null,
      "outputs": []
    },
    {
      "cell_type": "markdown",
      "source": [
        "## Ejercicio 2\n",
        "\n",
        "2. Usando el método descripto en el paper “Image Sharpness Measure for Blurred Images in Frequency Domain” comparar el resultado de un filtrado por convolución con el filtrado espectral.\n",
        "\n"
      ],
      "metadata": {
        "id": "f8qTXMil1AQ8"
      }
    },
    {
      "cell_type": "markdown",
      "source": [
        "El algoritmo es el siguiente:\n",
        "\n",
        "![alt text](https://www.dropbox.com/s/vifrrrtrwxmeep7/algoritmo1.png?dl=1)"
      ],
      "metadata": {
        "id": "zcpvzc8zUNd3"
      }
    },
    {
      "cell_type": "code",
      "source": [
        "def image_quality_measure(imagen):\n",
        "\n",
        "    assert imagen.size != 0 # check imagen no vacia\n",
        "    assert imagen.shape[1] != 0  # check tiene columnas\n",
        "\n",
        "    # Calcular la transformada de Fourier del kernel\n",
        "    _fft = np.fft.fft2(imagen)\n",
        "\n",
        "    # centrarla al origen\n",
        "    _fft_shift = np.fft.fftshift(_fft)\n",
        "\n",
        "    # calculo valor absoluto y me quedo con la maxima\n",
        "    M = np.max(np.log(np.abs(_fft_shift)))\n",
        "\n",
        "    T_h = (imagen > (M/1000)).sum()\n",
        "\n",
        "    N = imagen.shape[1] # nro de columnas en la imagen\n",
        "\n",
        "    que_regreso = T_h / (M * N )\n",
        "\n",
        "    return que_regreso"
      ],
      "metadata": {
        "id": "LJy_CV4g1Ak3"
      },
      "execution_count": null,
      "outputs": []
    },
    {
      "cell_type": "code",
      "source": [
        "url = 'https://www.dropbox.com/s/8efkws4d0amkrgo/CoordCrom_1.png?dl=1'\n",
        "#url = 'https://www.dropbox.com/s/8efkws4d0amkrgo/CoordCrom_2.png?dl=1'\n",
        "#url = 'https://www.dropbox.com/s/8efkws4d0amkrgo/CoordCrom_3.png?dl=1'\n",
        "myImg = io.imread(url)\n",
        "imagen = cv.cvtColor(myImg, cv2.COLOR_BGR2GRAY) # cargo imagen robotito en escala de grises\n",
        "#cv2_imshow(imagen)\n",
        "plt.figure(figsize=(8,8))\n",
        "plt.imshow(imagen, cmap='gray')"
      ],
      "metadata": {
        "id": "7FUaCqkGpKOM"
      },
      "execution_count": null,
      "outputs": []
    },
    {
      "cell_type": "code",
      "source": [
        "# Parámetros de prueba\n",
        "h = imagen.shape[0]\n",
        "w = imagen.shape[1]\n",
        "kernel_size = 15\n",
        "sigma_value = 27\n"
      ],
      "metadata": {
        "id": "CZTF7TGQVBWP"
      },
      "execution_count": null,
      "outputs": []
    },
    {
      "cell_type": "code",
      "source": [
        "# 1) imagen filtrada con gaussian blur\n",
        "# 2) usar el metodo create_gaussian\n",
        "# 3) aplicar\n",
        "\n",
        "# Crear filtro gaussiano y su transformada de Fourier\n",
        "gauss_filter, gauss_filter_fft = create_gauss_filter(h, w, kernel_size, sigma_value)\n",
        "\n"
      ],
      "metadata": {
        "id": "F-EiLYkxVS9z"
      },
      "execution_count": null,
      "outputs": []
    },
    {
      "cell_type": "code",
      "source": [
        "\n",
        "filter_conv = cv2.filter2D(imagen, -1, gauss_filter)\n",
        "\n",
        "img_fft = np.fft.fft2(imagen)\n",
        "\n",
        "filtered = img_fft * gauss_filter_fft\n",
        "\n",
        "#img_gauss = np.real(np.fft.ifft2(np.fft.ifftshift(filtered)))\n",
        "img_gauss = np.fft.ifftshift(np.real(np.fft.ifft2(filtered)))\n",
        "\n",
        "\n",
        "plt.figure(figsize=(12,12))\n",
        "plt.subplot(1,2,1)\n",
        "plt.axis('off')\n",
        "plt.title(\"Kernel Gausiano\")\n",
        "plt.imshow(filter_conv, cmap='gray')\n",
        "\n",
        "plt.subplot(1,2,2)\n",
        "plt.imshow(img_gauss, cmap='gray')\n",
        "plt.title('Desenfoque con fft')\n"
      ],
      "metadata": {
        "id": "_Qs3ouAvQihd"
      },
      "execution_count": null,
      "outputs": []
    },
    {
      "cell_type": "code",
      "source": [
        "image_quality_measure(imagen)"
      ],
      "metadata": {
        "id": "soZyAKFWC8ww"
      },
      "execution_count": null,
      "outputs": []
    },
    {
      "cell_type": "code",
      "source": [
        "image_quality_measure(filter_conv)"
      ],
      "metadata": {
        "id": "6U_UTuA3y_2m"
      },
      "execution_count": null,
      "outputs": []
    },
    {
      "cell_type": "code",
      "source": [
        "\n",
        "image_quality_measure(img_gauss)"
      ],
      "metadata": {
        "id": "U_-4SKLO0Nxj"
      },
      "execution_count": null,
      "outputs": []
    },
    {
      "cell_type": "markdown",
      "source": [
        "## Ejercicio 3\n",
        "\n",
        "3. Repetir la comparación usando uno de los métodos descriptos en el apéndice del paper “Analysis of focus measure operators in shape-from-focus”"
      ],
      "metadata": {
        "id": "diSHlQda1FBl"
      }
    },
    {
      "cell_type": "markdown",
      "source": [
        "Método A.24: gray-level variance (STA3)\n",
        "\n",
        "$$ \\phi_{x,y} = \\sum_{i,j} (I(i,j)-μ)^2 $$\n",
        "\n"
      ],
      "metadata": {
        "id": "lpsTwBjdNQ8Y"
      }
    },
    {
      "cell_type": "code",
      "source": [
        "def gray_level_variance(image):\n",
        "  media = np.mean(image)\n",
        "  r = image - media\n",
        "  cuadrado = np.power(r, 2)\n",
        "  return np.sum(cuadrado)"
      ],
      "metadata": {
        "id": "r1O4rq5Q1HNz"
      },
      "execution_count": null,
      "outputs": []
    },
    {
      "cell_type": "code",
      "source": [
        "gray_level_variance(imagen)"
      ],
      "metadata": {
        "id": "qVOYbAKGC2LJ"
      },
      "execution_count": null,
      "outputs": []
    },
    {
      "cell_type": "code",
      "source": [
        "gray_level_variance(filter_conv)"
      ],
      "metadata": {
        "id": "aTC2fyN1NuRC"
      },
      "execution_count": null,
      "outputs": []
    },
    {
      "cell_type": "code",
      "source": [
        "gray_level_variance(img_gauss)"
      ],
      "metadata": {
        "id": "YnptJkd-1d9O"
      },
      "execution_count": null,
      "outputs": []
    },
    {
      "cell_type": "markdown",
      "source": [
        "Repito las transformaciones para distintos valores de sigma para comparar ambas métricas"
      ],
      "metadata": {
        "id": "dvYLrIyG_Udv"
      }
    },
    {
      "cell_type": "code",
      "source": [
        "# Parámetros de prueba\n",
        "h = imagen.shape[0]\n",
        "w = imagen.shape[1]\n",
        "kernel_size = 15\n",
        "sigma_value = [5, 8, 13, 21,34,55,89,144,233,377,610]\n",
        "\n",
        "imq_gausiano = []\n",
        "img_ft = []\n",
        "glv_gausiano = []\n",
        "glv_ft = []\n",
        "\n",
        "for sig in sigma_value:\n",
        "  gauss_filter, gauss_filter_fft = create_gauss_filter(h, w, kernel_size, sig)\n",
        "\n",
        "  filter_conv = cv2.filter2D(imagen, -1, gauss_filter)\n",
        "\n",
        "  img_fft = np.fft.fft2(imagen)\n",
        "\n",
        "  filtered = img_fft * gauss_filter_fft\n",
        "\n",
        "  img_gauss = np.fft.ifftshift(np.real(np.fft.ifft2(filtered)))\n",
        "\n",
        "  imq_gausiano = np.append(imq_gausiano,image_quality_measure(filter_conv))\n",
        "  img_ft = np.append(img_ft,image_quality_measure(img_gauss))\n",
        "  glv_gausiano= np.append(glv_gausiano,gray_level_variance(filter_conv))\n",
        "  glv_ft = np.append(glv_ft,gray_level_variance(img_gauss))\n"
      ],
      "metadata": {
        "id": "avWJJ1EJ_ZB_"
      },
      "execution_count": null,
      "outputs": []
    },
    {
      "cell_type": "code",
      "source": [
        "imq_gausiano"
      ],
      "metadata": {
        "id": "LlYW6lZRBfJj"
      },
      "execution_count": null,
      "outputs": []
    }
  ]
}