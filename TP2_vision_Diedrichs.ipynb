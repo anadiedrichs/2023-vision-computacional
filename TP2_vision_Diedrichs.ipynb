{
  "nbformat": 4,
  "nbformat_minor": 0,
  "metadata": {
    "colab": {
      "private_outputs": true,
      "provenance": [],
      "authorship_tag": "ABX9TyMoXyngzXphdWYEz/3UodAN",
      "include_colab_link": true
    },
    "kernelspec": {
      "name": "python3",
      "display_name": "Python 3"
    },
    "language_info": {
      "name": "python"
    }
  },
  "cells": [
    {
      "cell_type": "markdown",
      "metadata": {
        "id": "view-in-github",
        "colab_type": "text"
      },
      "source": [
        "<a href=\"https://colab.research.google.com/github/anadiedrichs/2023-vision-computacional/blob/main/TP2_vision_Diedrichs.ipynb\" target=\"_parent\"><img src=\"https://colab.research.google.com/assets/colab-badge.svg\" alt=\"Open In Colab\"/></a>"
      ]
    },
    {
      "cell_type": "markdown",
      "source": [
        "# TP2 - VISION COMPUTACIONAL\n",
        "\n",
        " Ana Laura Diedrichs\n",
        " SIU a0902\n",
        " 9Co2022\n",
        "\n",
        "## Ejercicio 1\n",
        "\n",
        "Implementar la función ***create_gauss_filter(h, w, k_size, sigma)*** para crear filtros gaussianos para filtrado espectral. Debe retornar un filtro gaussiano de tamaño HxW en dominio espacial y su transformada de Fourier.\n",
        "\n",
        "1.  Graficar ambas representaciones para diferentes tamaños de kernel y sigma. Aplicar el filtro una imagen para validar el funcionamiento en el dominio espectral.\n"
      ],
      "metadata": {
        "id": "-_-bngWG0cYG"
      }
    },
    {
      "cell_type": "code",
      "source": [
        "#Si queremos que las imágenes sean mostradas en una ventana emergente quitar el inline\n",
        "%matplotlib inline\n",
        "#%matplotlib qt\n",
        "# OpenCV-Python utiliza NumPy para el manejo de imágenes\n",
        "import numpy as np\n",
        "# cv2 es el módulo python para acceder a OpenCV\n",
        "import cv2 as cv\n",
        "# Usamos las poderosas herramientas de graficación de matplotlib para mostrar imágenes, perfiles, histogramas, etc\n",
        "import matplotlib.pyplot as plt\n",
        "# para importar imagenes desde urls\n",
        "from skimage import io\n",
        "# mostrar imagenes opencv en googlecolab\n",
        "from google.colab.patches import cv2_imshow"
      ],
      "metadata": {
        "id": "RyoDclgEpFIB"
      },
      "execution_count": null,
      "outputs": []
    },
    {
      "cell_type": "code",
      "source": [
        "url = 'https://www.dropbox.com/s/8efkws4d0amkrgo/CoordCrom_1.png?dl=1'\n",
        "#url = 'https://www.dropbox.com/s/8efkws4d0amkrgo/CoordCrom_2.png?dl=1'\n",
        "#url = 'https://www.dropbox.com/s/8efkws4d0amkrgo/CoordCrom_3.png?dl=1'\n",
        "myImg = io.imread(url)\n",
        "image = cv.cvtColor(myImg, cv.COLOR_BGR2RGB)\n",
        "#cv2_imshow(image) # descomentar para visualizar la imagen descargada"
      ],
      "metadata": {
        "id": "7FUaCqkGpKOM"
      },
      "execution_count": null,
      "outputs": []
    },
    {
      "cell_type": "code",
      "execution_count": null,
      "metadata": {
        "id": "k16y4kV10baV"
      },
      "outputs": [],
      "source": [
        "# Creates a 1-D Gaussian kernel\n",
        "a = cv.getGaussianKernel(3, 5)\n",
        "\n",
        "# print Gaussian filter coefficients matrix\n",
        "print(a)\n",
        "\n",
        "b = cv.sepFilter2D(image,-1,a,a)\n",
        "\n",
        "# Display the Image\n",
        "cv2_imshow(b)"
      ]
    },
    {
      "cell_type": "code",
      "source": [
        "#https://www.programcreek.com/python/example/89346/cv2.getGaussianKernel"
      ],
      "metadata": {
        "id": "R-FDPjs_rpNx"
      },
      "execution_count": null,
      "outputs": []
    },
    {
      "cell_type": "code",
      "source": [
        "def create_gauss_filter(h, w, k_size, sigma):\n",
        "    # k_size debe ser impar\n",
        "\n",
        "    # Crear filtro gaussiano en el dominio espacial\n",
        "    gauss_kernel = cv.getGaussianKernel(k_size, sigma)\n",
        "    gauss_filter = np.outer(gauss_kernel, gauss_kernel.transpose())\n",
        "\n",
        "    # viene normalizado el filtro\n",
        "\n",
        "    gauss_filter = gauss_filter / np.sum(gauss_filter)  # Normalizar el filtro ?\n",
        "\n",
        "    # hacer padding de 0 hasta HxW\n",
        "\n",
        "    # Calcular la transformada de Fourier del filtro gaussiano\n",
        "    gauss_filter_fft = np.fft.fftshift(np.fft.fft2(gauss_filter, (h, w)))\n",
        "\n",
        "    return gauss_filter, gauss_filter_fft\n"
      ],
      "metadata": {
        "id": "60z_JJxMs00F"
      },
      "execution_count": null,
      "outputs": []
    },
    {
      "cell_type": "code",
      "source": [
        "h = 256\n",
        "w = 256\n",
        "k_size = 11\n",
        "sigma = 12.0\n",
        "\n",
        "gauss_filter, gauss_filter_fft = create_gauss_filter(h, w, k_size, sigma)\n",
        "\n",
        "cv2_imshow(gauss_filter) # \"Gaussian Filter\"\n"
      ],
      "metadata": {
        "id": "3axi-S7Ts91C"
      },
      "execution_count": null,
      "outputs": []
    },
    {
      "cell_type": "code",
      "source": [
        "\n",
        "cv2_imshow(np.abs(gauss_filter_fft)) # \"Gaussian Filter FFT\""
      ],
      "metadata": {
        "id": "OUJ1192ttTBH"
      },
      "execution_count": null,
      "outputs": []
    },
    {
      "cell_type": "markdown",
      "source": [
        "## Ejercicio 2\n",
        "\n",
        "2. Usando el método descripto en el paper “Image Sharpness Measure for Blurred Images in Frequency Domain” comparar el resultado de un filtrado por convolución con el filtrado espectral.\n",
        "\n"
      ],
      "metadata": {
        "id": "f8qTXMil1AQ8"
      }
    },
    {
      "cell_type": "code",
      "source": [],
      "metadata": {
        "id": "LJy_CV4g1Ak3"
      },
      "execution_count": null,
      "outputs": []
    },
    {
      "cell_type": "markdown",
      "source": [
        "## Ejercicio 3\n",
        "\n",
        "3. Repetir la comparación usando uno de los métodos descriptos en el apéndice del paper “Analysis of focus measure operators in shape-from-focus”"
      ],
      "metadata": {
        "id": "diSHlQda1FBl"
      }
    },
    {
      "cell_type": "code",
      "source": [],
      "metadata": {
        "id": "r1O4rq5Q1HNz"
      },
      "execution_count": null,
      "outputs": []
    }
  ]
}