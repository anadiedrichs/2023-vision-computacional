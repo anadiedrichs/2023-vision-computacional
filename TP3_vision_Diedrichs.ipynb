{
  "nbformat": 4,
  "nbformat_minor": 0,
  "metadata": {
    "colab": {
      "private_outputs": true,
      "provenance": [],
      "toc_visible": true,
      "authorship_tag": "ABX9TyPX1v7n6yzeH6cLRpUrld0G",
      "include_colab_link": true
    },
    "kernelspec": {
      "name": "python3",
      "display_name": "Python 3"
    },
    "language_info": {
      "name": "python"
    }
  },
  "cells": [
    {
      "cell_type": "markdown",
      "metadata": {
        "id": "view-in-github",
        "colab_type": "text"
      },
      "source": [
        "<a href=\"https://colab.research.google.com/github/anadiedrichs/2023-vision-computacional/blob/main/TP3_vision_Diedrichs.ipynb\" target=\"_parent\"><img src=\"https://colab.research.google.com/assets/colab-badge.svg\" alt=\"Open In Colab\"/></a>"
      ]
    },
    {
      "cell_type": "markdown",
      "source": [
        "\n",
        "# Trabajo Práctico Nro 3\n",
        "\n",
        "\n",
        "Ana Laura Diedrichs\n",
        "\n",
        "SIU a0902\n",
        "\n",
        "9Co2022\n",
        "\n",
        "\n",
        " Encontrar el logotipo de la gaseosa dentro de las imágenes provistas en Material_TPs/TP3/images a partir del template Material_TPs/TP3/template\n",
        "\n",
        "\n"
      ],
      "metadata": {
        "id": "HU0yfC1mvxTt"
      }
    },
    {
      "cell_type": "code",
      "source": [
        "#Si queremos que las imágenes sean mostradas en una ventana emergente quitar el inline\n",
        "%matplotlib inline\n",
        "# OpenCV-Python utiliza NumPy para el manejo de imágenes\n",
        "import numpy as np\n",
        "# cv2 es el módulo python para acceder a OpenCV\n",
        "import cv2 as cv\n",
        "# matplotlib para mostrar imágenes, perfiles, histogramas, etc\n",
        "import matplotlib.pyplot as plt\n",
        "# para importar imagenes desde urls\n",
        "from skimage import io\n",
        "# mostrar imagenes opencv en googlecolab\n",
        "from google.colab.patches import cv2_imshow"
      ],
      "metadata": {
        "id": "k3ZYuENmE_4m"
      },
      "execution_count": null,
      "outputs": []
    },
    {
      "cell_type": "markdown",
      "source": [
        "Muestro la imagen del template"
      ],
      "metadata": {
        "id": "hYzgooLY88vb"
      }
    },
    {
      "cell_type": "code",
      "source": [
        "url_template = \"https://www.dropbox.com/s/rn5d4oubths7xmz/pattern.png?dl=1\"\n",
        "img = io.imread(url_template)\n",
        "img_template = cv.cvtColor(img,cv.COLOR_BGR2GRAY)\n",
        "\n",
        "plt.figure(figsize=(8,8))\n",
        "plt.imshow(img_template, cmap='gray')"
      ],
      "metadata": {
        "id": "JeusoF8g7_MC"
      },
      "execution_count": null,
      "outputs": []
    },
    {
      "cell_type": "markdown",
      "source": [
        "## 1.(4 puntos) Obtener una detección del logo en cada imagen sin falsos positivos\n"
      ],
      "metadata": {
        "id": "wAMjrI1fv2l0"
      }
    },
    {
      "cell_type": "code",
      "source": [
        "def template_matching(imagen, plantilla, t = 0.7):\n",
        "  'Recibe imágenes y se puede elegir el threshold / umbral'\n",
        "  # Convert the images to grayscale\n",
        "  copia = imagen.copy()\n",
        "  input_gray = cv.cvtColor(imagen, cv.COLOR_BGR2GRAY)\n",
        "  template_gray = cv.cvtColor(plantilla, cv.COLOR_BGR2GRAY)\n",
        "\n",
        "  # Find the dimensions of the template image\n",
        "  h,w = template_gray.shape\n",
        "\n",
        "  # Use the cv2.matchTemplate() function to find the correlation between the images\n",
        "  result = cv.matchTemplate(input_gray, template_gray, cv.TM_CCOEFF_NORMED)\n",
        "\n",
        "  # Set the threshold for the correlation coefficient\n",
        "  threshold = t\n",
        "  loc = np.where(result >= threshold)\n",
        "\n",
        "  # Check if there are any good matches\n",
        "  if len(loc[0]) > 0:\n",
        "      # Draw a rectangle around each good match\n",
        "      for pt in zip(*loc[::-1]):\n",
        "          cv.rectangle(copia, pt, (pt[0] + w, pt[1] + h), (0, 0, 255), 2)\n",
        "      print(\"Coincidencia encontrada\")\n",
        "  else:\n",
        "      print(\"Nada por aquí\")\n",
        "\n",
        "  # Find the location of the maximum value in the result image\n",
        "  min_val, max_val, min_loc, max_loc = cv.minMaxLoc(result)\n",
        "\n",
        "  # Draw a rectangle around the maximum value in the result image\n",
        "  top_left = max_loc\n",
        "  bottom_right = (top_left[0] + plantilla.shape[1], top_left[1] + plantilla.shape[0])\n",
        "  img_matches = cv.rectangle(copia, top_left, bottom_right, (0, 0, 255), 2)\n",
        "\n",
        "  return img_matches\n",
        "\n",
        "\n"
      ],
      "metadata": {
        "id": "nbTKyzwErrFp"
      },
      "execution_count": null,
      "outputs": []
    },
    {
      "cell_type": "code",
      "source": [
        "def template_matching_intro(imagen,plantilla):\n",
        "\n",
        "    img_gray = cv.cvtColor(imagen, cv.COLOR_BGR2GRAY)\n",
        "    template = cv.cvtColor(plantilla, cv.COLOR_BGR2GRAY)\n",
        "\n",
        "    # Hago una copia de la imagen porque ciclo a ciclo le dibujo rectángulos\n",
        "    img_salida =  cv.cvtColor(imagen, cv.COLOR_BGR2RGB)\n",
        "\n",
        "\n",
        "    # Aplicamos la coincidencia de patrones\n",
        "    #--------------------------------------\n",
        "    res = cv.matchTemplate(img_gray, template, cv.TM_CCOEFF_NORMED)\n",
        "\n",
        "    # Encontramos los valores máximos y mínimos\n",
        "    min_val, max_val, min_loc, max_loc = cv.minMaxLoc(res)\n",
        "\n",
        "    top_left = max_loc\n",
        "\n",
        "    # Marcamos el lugar donde lo haya encontrado\n",
        "    #----------------------------------------\n",
        "    bottom_right = (top_left[0] + w, top_left[1] + h)\n",
        "    cv.rectangle(img_salida,top_left, bottom_right, 255, 2)\n",
        "\n",
        "    # Graficamos el procesamiento y la salida\n",
        "    #----------------------------------------\n",
        "    plt.figure()\n",
        "\n",
        "    # Resultado de coincidencia\n",
        "    plt.subplot(121),plt.imshow(res,cmap = 'gray')\n",
        "    plt.title('Matching Result'), plt.xticks([]), plt.yticks([])\n",
        "\n",
        "    # Imagen original con recuadros\n",
        "    plt.subplot(122),plt.imshow(img_salida)\n",
        "    plt.title('Detected Point'), plt.xticks([]), plt.yticks([])\n",
        "\n",
        "    plt.suptitle(meth)\n",
        "    plt.show()"
      ],
      "metadata": {
        "id": "dc_vG-u9S8Kn"
      },
      "execution_count": null,
      "outputs": []
    },
    {
      "cell_type": "code",
      "source": [
        "urls = [\"https://www.dropbox.com/s/lxv9drjd0vzmzg2/COCA-COLA-LOGO.jpg?dl=1\",\n",
        "     \"https://www.dropbox.com/s/bifxxgy5l0vicf0/coca_logo_1.png?dl=1\",\n",
        "      \"https://www.dropbox.com/s/a4y0lsjykqzmm7b/coca_logo_2.png?dl=1\",\n",
        "      \"https://www.dropbox.com/s/o1rtc9zsu81u0eq/coca_retro_1.png?dl=1\",\n",
        "      \"https://www.dropbox.com/s/jgxf1g1v94wdw6r/coca_retro_2.png?dl=1\",\n",
        "      \"https://www.dropbox.com/s/pfwbo9nnyi5ifyq/logo_1.png?dl=1\",\n",
        "      \"https://www.dropbox.com/s/z0sfx2k08ou61at/coca_multi.png?dl=1\"]\n"
      ],
      "metadata": {
        "id": "6xOM6XOoQOro"
      },
      "execution_count": null,
      "outputs": []
    },
    {
      "cell_type": "markdown",
      "source": [
        "### Imagen COCA-COLA-LOGO.jpg"
      ],
      "metadata": {
        "id": "Jua4JQ1FU13P"
      }
    },
    {
      "cell_type": "code",
      "source": [
        "# template\n",
        "url_template = \"https://www.dropbox.com/s/rn5d4oubths7xmz/pattern.png?dl=1\"\n",
        "img = io.imread(url_template)\n",
        "# imagen\n",
        "url = \"https://www.dropbox.com/s/lxv9drjd0vzmzg2/COCA-COLA-LOGO.jpg?dl=1\"\n",
        "myImg = io.imread(url)"
      ],
      "metadata": {
        "id": "V5uYkKaSokDx"
      },
      "execution_count": null,
      "outputs": []
    },
    {
      "cell_type": "code",
      "source": [
        "template_matching_intro(myImg, plantilla=img)"
      ],
      "metadata": {
        "id": "58I5comEUCrd"
      },
      "execution_count": null,
      "outputs": []
    },
    {
      "cell_type": "code",
      "source": [
        "\n",
        "salida = template_matching(myImg, plantilla=img, t = 0.6)\n",
        "\n",
        "# Display the results\n",
        "plt.figure(figsize = (20,10))\n",
        "plt.imshow(salida)"
      ],
      "metadata": {
        "id": "KuxPGXXvUWIE"
      },
      "execution_count": null,
      "outputs": []
    },
    {
      "cell_type": "markdown",
      "source": [
        "### Imagen coca_logo_1.png"
      ],
      "metadata": {
        "id": "6QWAaHseU9cj"
      }
    },
    {
      "cell_type": "code",
      "source": [
        "# imagen\n",
        "url = \"https://www.dropbox.com/s/bifxxgy5l0vicf0/coca_logo_1.png?dl=1\"\n",
        "myImg = io.imread(url)\n",
        "#template_matching_intro(myImg, plantilla=img)"
      ],
      "metadata": {
        "id": "yKvGW6c-VN8r"
      },
      "execution_count": null,
      "outputs": []
    },
    {
      "cell_type": "markdown",
      "source": [
        "La ejecución anterior da error porque la resolución de la imagen coca_logo_1.png es menor a la del template, corrijo achicando la imagen del template con pyrDown"
      ],
      "metadata": {
        "id": "UNeTKxh7VYUS"
      }
    },
    {
      "cell_type": "code",
      "source": [
        "# Esto aumenta la resolución inyectando filas y columnas de ceros intercaladas y luego\n",
        "# convolucionando el resultado con el núcleo gaussiano 5 × 5 multiplicado por 4\n",
        "img_nivel_2 = cv.pyrDown(img)\n",
        "\n",
        "# Muestro el resultado por subir el nivel\n",
        "#cv2_imshow(img_nivel_2)\n",
        "template_matching_intro(myImg, plantilla=img_nivel_2)"
      ],
      "metadata": {
        "id": "nwCCD_EkUQrR"
      },
      "execution_count": null,
      "outputs": []
    },
    {
      "cell_type": "code",
      "source": [
        "salida = template_matching(myImg, plantilla=img_nivel_2, t = 0.9)\n",
        "\n",
        "# Display the results\n",
        "plt.figure(figsize = (20,10))\n",
        "plt.imshow(salida)"
      ],
      "metadata": {
        "id": "hATou5HeV6M4"
      },
      "execution_count": null,
      "outputs": []
    },
    {
      "cell_type": "code",
      "execution_count": null,
      "metadata": {
        "id": "LuYQHU7gKbOE"
      },
      "outputs": [],
      "source": [
        "urls = [\"https://www.dropbox.com/s/lxv9drjd0vzmzg2/COCA-COLA-LOGO.jpg?dl=1\",\n",
        "     \"https://www.dropbox.com/s/bifxxgy5l0vicf0/coca_logo_1.png?dl=1\",\n",
        "      \"https://www.dropbox.com/s/a4y0lsjykqzmm7b/coca_logo_2.png?dl=1\",\n",
        "      \"https://www.dropbox.com/s/o1rtc9zsu81u0eq/coca_retro_1.png?dl=1\",\n",
        "      \"https://www.dropbox.com/s/jgxf1g1v94wdw6r/coca_retro_2.png?dl=1\",\n",
        "      \"https://www.dropbox.com/s/pfwbo9nnyi5ifyq/logo_1.png?dl=1\",\n",
        "      \"https://www.dropbox.com/s/z0sfx2k08ou61at/coca_multi.png?dl=1\"]\n",
        "\n",
        "w = img_template.shape[1]\n",
        "h = img_template.shape[0]\n",
        "\n",
        "# Los 6 métodos posibles para comparación:\n",
        "methods = ['cv.TM_CCOEFF', 'cv.TM_CCOEFF_NORMED', 'cv.TM_CCORR',\n",
        "            'cv.TM_CCORR_NORMED', 'cv.TM_SQDIFF', 'cv.TM_SQDIFF_NORMED']\n",
        "\n",
        "for url in urls: # por cada imagen\n",
        "  myImg = io.imread(url)\n",
        "  img_rgb= cv.cvtColor(myImg, cv.COLOR_BGR2RGB)\n",
        "  img_gray= cv.cvtColor(myImg, cv.COLOR_BGR2GRAY)\n",
        "\n",
        "  for meth in methods: # por cada uno de los métodos\n",
        "    # Hago una copia de la imagen porque ciclo a ciclo le dibujo rectángulos\n",
        "    img_salida = img_rgb.copy()\n",
        "\n",
        "    method = eval(meth)\n",
        "\n",
        "    # Aplicamos la coincidencia de patrones\n",
        "    #--------------------------------------\n",
        "    res = cv.matchTemplate(img_gray, img_template, method)\n",
        "\n",
        "    # Encontramos los valores máximos y mínimos\n",
        "    min_val, max_val, min_loc, max_loc = cv.minMaxLoc(res)\n",
        "\n",
        "    # Si el método es TM_SQDIFF o TM_SQDIFF_NORMED, tomamos el mínimo\n",
        "    if method in [cv.TM_SQDIFF, cv.TM_SQDIFF_NORMED]:\n",
        "        top_left = min_loc\n",
        "    else:\n",
        "        top_left = max_loc\n",
        "\n",
        "    # Marcamos el lugar donde lo haya encontrado\n",
        "    #----------------------------------------\n",
        "    bottom_right = (top_left[0] + w, top_left[1] + h)\n",
        "    cv.rectangle(img_salida,top_left, bottom_right, 255, 2)\n",
        "\n",
        "    # Graficamos el procesamiento y la salida\n",
        "    #----------------------------------------\n",
        "    plt.figure()\n",
        "\n",
        "    # Resultado de coincidencia\n",
        "    plt.subplot(121),plt.imshow(res,cmap = 'gray')\n",
        "    plt.title('Matching Result'), plt.xticks([]), plt.yticks([])\n",
        "\n",
        "    # Imagen original con recuadros\n",
        "    plt.subplot(122),plt.imshow(img_salida)\n",
        "    plt.title('Detected Point'), plt.xticks([]), plt.yticks([])\n",
        "\n",
        "    plt.suptitle(meth)\n",
        "    plt.show()\n",
        "\n"
      ]
    },
    {
      "cell_type": "code",
      "execution_count": null,
      "metadata": {
        "id": "Ve_7WdhvF1z6"
      },
      "outputs": [],
      "source": [
        "template_image = img_template\n",
        "\n",
        "height, width = template_image.shape\n",
        "\n",
        "for url in urls: # por cada imagen\n",
        "  myImg = io.imread(url)\n",
        "  img_rgb= cv.cvtColor(myImg, cv.COLOR_BGR2RGB)\n",
        "  target_image= cv.cvtColor(myImg, cv.COLOR_BGR2GRAY)\n",
        "\n",
        "  # Realizar el template matching\n",
        "  result = cv.matchTemplate(target_image, template_image, cv.TM_CCOEFF_NORMED)\n",
        "\n",
        "  # Establecer un umbral para la detección\n",
        "  threshold = 0.70\n",
        "  loc = np.where(result >= threshold)\n",
        "\n",
        "  img_salida = img_rgb.copy()\n",
        "\n",
        "  for pt in zip(*loc[::-1]):\n",
        "    cv.rectangle(img_salida, pt, (pt[0] + w, pt[1] + h), (0,0,255), 2)\n",
        "\n",
        "  # Graficamos el procesamiento y la salida\n",
        "  #----------------------------------------\n",
        "  plt.figure()\n",
        "\n",
        "  # Resultado de coincidencia\n",
        "  plt.subplot(121),plt.imshow(res,cmap = 'gray')\n",
        "  plt.title('Matching Result'), plt.xticks([]), plt.yticks([])\n",
        "\n",
        "  # Imagen original con recuadros\n",
        "  plt.subplot(122),plt.imshow(img_salida)\n",
        "  plt.title('Detected Point'), plt.xticks([]), plt.yticks([])\n",
        "  plt.show()\n",
        "\n",
        "\n"
      ]
    },
    {
      "cell_type": "markdown",
      "source": [
        "##2.(4 puntos) Plantear y validar un algoritmo para múltiples detecciones en la imagen\n",
        "coca_multi.png con el mismo template del ítem 1\n"
      ],
      "metadata": {
        "id": "RlPZySGYv6XL"
      }
    },
    {
      "cell_type": "code",
      "source": [],
      "metadata": {
        "id": "uNlQpNafwCXi"
      },
      "execution_count": null,
      "outputs": []
    },
    {
      "cell_type": "markdown",
      "source": [
        "##3.(2 puntos) Generalizar el algoritmo del item 2 para todas las imágenes.\n",
        "Visualizar los resultados con bounding boxes en cada imagen mostrando el nivel de confianza\n",
        "de la detección.\n"
      ],
      "metadata": {
        "id": "MdNiVpbZv7wr"
      }
    },
    {
      "cell_type": "code",
      "execution_count": null,
      "metadata": {
        "id": "0qF_oLgdvwzS"
      },
      "outputs": [],
      "source": []
    }
  ]
}