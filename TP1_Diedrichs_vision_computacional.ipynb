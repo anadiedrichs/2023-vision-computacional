{
  "nbformat": 4,
  "nbformat_minor": 0,
  "metadata": {
    "colab": {
      "private_outputs": true,
      "provenance": [],
      "authorship_tag": "ABX9TyNH96sYgjDfWybEnAEJRq44",
      "include_colab_link": true
    },
    "kernelspec": {
      "name": "python3",
      "display_name": "Python 3"
    },
    "language_info": {
      "name": "python"
    }
  },
  "cells": [
    {
      "cell_type": "markdown",
      "metadata": {
        "id": "view-in-github",
        "colab_type": "text"
      },
      "source": [
        "<a href=\"https://colab.research.google.com/github/anadiedrichs/2023-vision-computacional/blob/main/TP1_Diedrichs_vision_computacional.ipynb\" target=\"_parent\"><img src=\"https://colab.research.google.com/assets/colab-badge.svg\" alt=\"Open In Colab\"/></a>"
      ]
    },
    {
      "cell_type": "markdown",
      "source": [
        "# Trabajo práctico 1 - visión computacional\n",
        "Ana Laura Diedrichs\n",
        "\n",
        "# Parte 1 (imágenes en /white_patch y /coord_cromaticas):\n",
        "1. Implementar el algoritmo de pasaje a coordenadas cromáticas para librarnos de las variaciones de contraste."
      ],
      "metadata": {
        "id": "QhbGfTyj2qtI"
      }
    },
    {
      "cell_type": "code",
      "source": [],
      "metadata": {
        "id": "kbD_E7Ha29tp"
      },
      "execution_count": null,
      "outputs": []
    },
    {
      "cell_type": "markdown",
      "source": [
        "\n",
        "2. Implementar el algoritmo White Patch para librarnos de las diferencias de color de iluminación.\n"
      ],
      "metadata": {
        "id": "_btt_jNS28Jp"
      }
    },
    {
      "cell_type": "code",
      "source": [],
      "metadata": {
        "id": "IVhIoU4U27wt"
      },
      "execution_count": null,
      "outputs": []
    },
    {
      "cell_type": "markdown",
      "source": [
        "3. Mostrar los resultados obtenidos y analizar las posibles fallas (si es que las hay) en el caso de White patch.\n"
      ],
      "metadata": {
        "id": "snFjlALS26PA"
      }
    },
    {
      "cell_type": "code",
      "execution_count": null,
      "metadata": {
        "id": "UM2y9yYq2pzx"
      },
      "outputs": [],
      "source": []
    },
    {
      "cell_type": "markdown",
      "source": [
        "# Parte 2:\n",
        "1. Para las imágenes img1_tp.png y img2_tp.png leerlas con OpenCV en escala de grisas y visualizarlas.\n"
      ],
      "metadata": {
        "id": "Ai6fol9f2ugD"
      }
    },
    {
      "cell_type": "code",
      "source": [],
      "metadata": {
        "id": "OEIT6dQ23IMl"
      },
      "execution_count": null,
      "outputs": []
    },
    {
      "cell_type": "markdown",
      "source": [
        "2. Elija el numero de bins que crea conveniente y grafique su histograma, compare los histogramas entre si.\n",
        "Explicar lo que se observa, si tuviera que entrenar un modelo de clasificación/detección de imágenes,\n",
        "considera que puede ser de utilidad tomar como ‘features’ a los histogramas?\n"
      ],
      "metadata": {
        "id": "QSTh_TFp3Hhv"
      }
    },
    {
      "cell_type": "code",
      "source": [],
      "metadata": {
        "id": "y9s4Fyt83HBw"
      },
      "execution_count": null,
      "outputs": []
    },
    {
      "cell_type": "markdown",
      "source": [
        "3. Para la imagen segmentacion.png analice el histograma de los canales RGB. Segmente algunos de los\n",
        "elementos presentes en la imagen (agua, cielo, tierra) y muestre, aplicando mascaras, las regiones en imágenes\n",
        "separadas."
      ],
      "metadata": {
        "id": "vUIGR3033Ghv"
      }
    },
    {
      "cell_type": "code",
      "source": [],
      "metadata": {
        "id": "-dpdkyPC3Fyw"
      },
      "execution_count": null,
      "outputs": []
    }
  ]
}