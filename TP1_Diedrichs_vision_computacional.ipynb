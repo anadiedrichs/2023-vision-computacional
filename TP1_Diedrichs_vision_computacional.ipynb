{
  "nbformat": 4,
  "nbformat_minor": 0,
  "metadata": {
    "colab": {
      "private_outputs": true,
      "provenance": [],
      "authorship_tag": "ABX9TyP+E+F5Zz44+8FPfzqaPNkn",
      "include_colab_link": true
    },
    "kernelspec": {
      "name": "python3",
      "display_name": "Python 3"
    },
    "language_info": {
      "name": "python"
    }
  },
  "cells": [
    {
      "cell_type": "markdown",
      "metadata": {
        "id": "view-in-github",
        "colab_type": "text"
      },
      "source": [
        "<a href=\"https://colab.research.google.com/github/anadiedrichs/2023-vision-computacional/blob/main/TP1_Diedrichs_vision_computacional.ipynb\" target=\"_parent\"><img src=\"https://colab.research.google.com/assets/colab-badge.svg\" alt=\"Open In Colab\"/></a>"
      ]
    },
    {
      "cell_type": "markdown",
      "source": [
        "# Trabajo práctico 1 - visión computacional\n",
        "Ana Laura Diedrichs\n",
        "\n",
        "# Parte 1 (imágenes en /white_patch y /coord_cromaticas):\n",
        "\n"
      ],
      "metadata": {
        "id": "QhbGfTyj2qtI"
      }
    },
    {
      "cell_type": "markdown",
      "source": [
        "## 1. Implementar el algoritmo de pasaje a coordenadas cromáticas para librarnos de las variaciones de contraste."
      ],
      "metadata": {
        "id": "vhhJiX-C6Wjr"
      }
    },
    {
      "cell_type": "code",
      "source": [
        "#Si queremos que las imágenes sean mostradas en una ventana emergente quitar el inline\n",
        "%matplotlib inline  \n",
        "#%matplotlib qt\n",
        "# OpenCV-Python utiliza NumPy para el manejo de imágenes\n",
        "import numpy as np\n",
        "# cv2 es el módulo python para acceder a OpenCV \n",
        "import cv2 as cv\n",
        "# Usamos las poderosas herramientas de graficación de matplotlib para mostrar imágenes, perfiles, histogramas, etc\n",
        "import matplotlib.pyplot as plt\n",
        "# para importar imagenes desde urls \n",
        "from skimage import io\n",
        "# mostrar imagenes opencv en googlecolab\n",
        "from google.colab.patches import cv2_imshow "
      ],
      "metadata": {
        "id": "K9Tcim07bhLQ"
      },
      "execution_count": null,
      "outputs": []
    },
    {
      "cell_type": "markdown",
      "source": [],
      "metadata": {
        "id": "Nu2nutoCbj3A"
      }
    },
    {
      "cell_type": "code",
      "source": [
        "url = 'https://www.dropbox.com/s/8efkws4d0amkrgo/CoordCrom_1.png?dl=1'\n",
        "#url = 'https://www.dropbox.com/s/8efkws4d0amkrgo/CoordCrom_2.png?dl=1'\n",
        "#url = 'https://www.dropbox.com/s/8efkws4d0amkrgo/CoordCrom_3.png?dl=1'\n",
        "myImg = io.imread(url)  \n",
        "image = cv.cvtColor(myImg, cv.COLOR_BGR2RGB)\n",
        "#cv2_imshow(image) # descomentar para visualizar la imagen descargada"
      ],
      "metadata": {
        "id": "KcE3WKomeaoS"
      },
      "execution_count": null,
      "outputs": []
    },
    {
      "cell_type": "markdown",
      "source": [
        "El pasaje a coordenadas cromáticas es modificar el contraste, es decir, multiplicar mi imagen por un valor.\n",
        "\n",
        "$$ s (R,G,B) =  (\\frac{sR}{sR+sG+sB},\\frac{sG}{sR+sG+sB},\\frac{sB}{sR+sG+sB} ) $$"
      ],
      "metadata": {
        "id": "fIyxdl5MmU4Q"
      }
    },
    {
      "cell_type": "code",
      "execution_count": null,
      "metadata": {
        "id": "0qCTLB1Oi1T1"
      },
      "outputs": [],
      "source": [
        "def coord_cromaticas( image,scale_factor = 0.7):\n",
        "  # Quiero desensamblar los canales para trabajarlos por separado\n",
        "  im_r, im_g, im_b = cv.split(image)\n",
        "  # DUDA scale_factor debe ser estar limitado a un rango de valores?\n",
        "  # TODO \n",
        "\n",
        "  denominador = im_r + im_g + im_b   \n",
        "\n",
        "  # evitamos que el denominador quede en cero para evitar exception por division x cero\n",
        "  denominador[denominador == 0] = 1 \n",
        "\n",
        "  for i in range(3):\n",
        "    image[:,:,i] = scale_factor  * ( image[:,:,i] / denominador)\n",
        "\n",
        "\n",
        "  img2 = np.int8(image)     \n",
        "\n",
        "\n",
        "  return img2\n",
        "\n",
        "\n"
      ]
    },
    {
      "cell_type": "code",
      "source": [
        "cv2_imshow(coord_cromaticas(image.copy()))"
      ],
      "metadata": {
        "id": "rj7XccEFJnVm"
      },
      "execution_count": null,
      "outputs": []
    },
    {
      "cell_type": "code",
      "source": [
        "cv2_imshow(coord_cromaticas(image.copy(),32))"
      ],
      "metadata": {
        "id": "G4VJryYwJowY"
      },
      "execution_count": null,
      "outputs": []
    },
    {
      "cell_type": "markdown",
      "source": [
        "\n",
        "## 2. Implementar el algoritmo White Patch para librarnos de las diferencias de color de iluminación.\n"
      ],
      "metadata": {
        "id": "_btt_jNS28Jp"
      }
    },
    {
      "cell_type": "markdown",
      "source": [],
      "metadata": {
        "id": "cdJ630IgouaI"
      }
    },
    {
      "cell_type": "code",
      "source": [
        "def white_patch(imagen):\n",
        "  # Quiero desensamblar los canales para trabajarlos por separado\n",
        "  im_r, im_g, im_b = cv.split(imagen)\n",
        "  for i in range(3):\n",
        "    imagen[:,:,i] = 255/np.max(imagen[:,:,i])  *  imagen[:,:,i]\n",
        "  return imagen"
      ],
      "metadata": {
        "id": "IVhIoU4U27wt"
      },
      "execution_count": null,
      "outputs": []
    },
    {
      "cell_type": "markdown",
      "source": [
        "3. Mostrar los resultados obtenidos y analizar las posibles fallas (si es que las hay) en el caso de White patch.\n"
      ],
      "metadata": {
        "id": "snFjlALS26PA"
      }
    },
    {
      "cell_type": "code",
      "source": [
        "urls = [\"https://www.dropbox.com/s/horjm002oqf685i/test_blue.png?dl=1\",\n",
        "      \"https://www.dropbox.com/s/830ejumhb12qwr1/test_green.png?dl=1\",\n",
        "      \"https://www.dropbox.com/s/bxv1wsxbu8iwhy7/test_red.png?dl=1\",\n",
        "      \"https://www.dropbox.com/s/bxv1wsxbu8iwhy7/test_red.png?dl=1\",\n",
        "      \"https://www.dropbox.com/s/m9bripcj8w27vq1/wp_blue.jpg?dl=1\",\n",
        "      \"https://www.dropbox.com/s/8cthn5kyr9wg80v/wp_green.png?dl=1\",\n",
        "      \"https://www.dropbox.com/s/fraj46ytuauxgvw/wp_green2.jpg?dl=1\",\n",
        "      \"https://www.dropbox.com/s/ht0l38by77bw8fd/wp_red.png?dl=1\",\n",
        "      \"https://www.dropbox.com/s/jrk1nb7ba2me51x/wp_red2.jpg?dl=1\"] \n",
        "\n",
        "\n",
        "for url in urls:\n",
        "  image = io.imread(url) \n",
        "  image_2 = cv.cvtColor(image, cv.COLOR_BGR2RGB)\n",
        "  final_frame = cv.hconcat((image_2, white_patch(image_2.copy())))\n",
        "  cv2_imshow(final_frame)\n",
        "  print('\\n')\n",
        "\n"
      ],
      "metadata": {
        "id": "LuYQHU7gKbOE"
      },
      "execution_count": null,
      "outputs": []
    },
    {
      "cell_type": "markdown",
      "source": [
        "# Parte 2:\n",
        "1. Para las imágenes img1_tp.png y img2_tp.png leerlas con OpenCV en escala de grises y visualizarlas.\n"
      ],
      "metadata": {
        "id": "Ai6fol9f2ugD"
      }
    },
    {
      "cell_type": "code",
      "source": [],
      "metadata": {
        "id": "OEIT6dQ23IMl"
      },
      "execution_count": null,
      "outputs": []
    },
    {
      "cell_type": "markdown",
      "source": [
        "2. Elija el numero de bins que crea conveniente y grafique su histograma, compare los histogramas entre si.\n",
        "Explicar lo que se observa, si tuviera que entrenar un modelo de clasificación/detección de imágenes,\n",
        "considera que puede ser de utilidad tomar como ‘features’ a los histogramas?\n"
      ],
      "metadata": {
        "id": "QSTh_TFp3Hhv"
      }
    },
    {
      "cell_type": "code",
      "source": [],
      "metadata": {
        "id": "y9s4Fyt83HBw"
      },
      "execution_count": null,
      "outputs": []
    },
    {
      "cell_type": "markdown",
      "source": [
        "3. Para la imagen segmentacion.png analice el histograma de los canales RGB. Segmente algunos de los\n",
        "elementos presentes en la imagen (agua, cielo, tierra) y muestre, aplicando mascaras, las regiones en imágenes\n",
        "separadas."
      ],
      "metadata": {
        "id": "vUIGR3033Ghv"
      }
    },
    {
      "cell_type": "code",
      "source": [],
      "metadata": {
        "id": "-dpdkyPC3Fyw"
      },
      "execution_count": null,
      "outputs": []
    }
  ]
}